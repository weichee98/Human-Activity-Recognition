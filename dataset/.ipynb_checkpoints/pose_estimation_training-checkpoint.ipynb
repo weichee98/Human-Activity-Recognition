{
 "cells": [
  {
   "cell_type": "code",
   "execution_count": 1,
   "metadata": {
    "scrolled": true
   },
   "outputs": [],
   "source": [
    "import numpy as np\n",
    "import pandas as pd\n",
    "import matplotlib.pyplot as plt\n",
    "import math\n",
    "\n",
    "import tensorflow as tf\n",
    "from tensorflow import keras"
   ]
  },
  {
   "cell_type": "code",
   "execution_count": null,
   "metadata": {
    "scrolled": true
   },
   "outputs": [],
   "source": [
    "df = pd.read_pickle('20200527-162848-dataset.pkl')\n",
    "df"
   ]
  },
  {
   "cell_type": "code",
   "execution_count": null,
   "metadata": {
    "scrolled": true
   },
   "outputs": [],
   "source": [
    "df['POSE'].value_counts()"
   ]
  },
  {
   "cell_type": "code",
   "execution_count": null,
   "metadata": {
    "scrolled": true
   },
   "outputs": [],
   "source": [
    "df_keypoints = df['NORMALIZED_KEYPOINTS']\n",
    "df_label = df['POSE']"
   ]
  },
  {
   "cell_type": "code",
   "execution_count": null,
   "metadata": {
    "scrolled": true
   },
   "outputs": [],
   "source": [
    "pose_name = {\n",
    "    \"UNKNOWN\": 0,\n",
    "    \"SITTING\": 1,\n",
    "    \"STANDING\": 2\n",
    "}"
   ]
  },
  {
   "cell_type": "code",
   "execution_count": null,
   "metadata": {
    "scrolled": true
   },
   "outputs": [],
   "source": [
    "y = np.array(df_label.replace(pose_name))\n",
    "x = np.array(list(df_keypoints))\n",
    "\n",
    "print(y.shape)\n",
    "print(x.shape)"
   ]
  },
  {
   "cell_type": "raw",
   "metadata": {},
   "source": [
    "split_frac = 0.75\n",
    "train_labels, test_labels = np.split(y, [round(split_frac * len(y))])\n",
    "train_keypoints, test_keypoints = np.split(x, [round(split_frac * len(x))])\n",
    "\n",
    "print(\"train_keypoints:\", train_keypoints.shape)\n",
    "print(\"train_label:\", train_labels.shape)\n",
    "print(\"test_keypoints:\", test_keypoints.shape)\n",
    "print(\"test_label:\", test_labels.shape)"
   ]
  },
  {
   "cell_type": "code",
   "execution_count": null,
   "metadata": {
    "scrolled": true
   },
   "outputs": [],
   "source": [
    "model = keras.Sequential([\n",
    "#     keras.layers.Conv1D(25, 2, input_shape=(25, 3)),\n",
    "    keras.layers.LSTM(512, input_shape=(25, 3)),\n",
    "#     keras.layers.Flatten(),\n",
    "#     keras.layers.Dense(512, activation='relu'),\n",
    "    keras.layers.Dense(256, activation='relu'),\n",
    "    keras.layers.Dense(128, activation='relu'),\n",
    "    keras.layers.Dense(3, activation='softmax')\n",
    "])\n",
    "\n",
    "model.summary()"
   ]
  },
  {
   "cell_type": "code",
   "execution_count": null,
   "metadata": {
    "scrolled": true
   },
   "outputs": [],
   "source": [
    "model.compile(optimizer='adam',\n",
    "              loss=keras.losses.SparseCategoricalCrossentropy(from_logits=True),\n",
    "              metrics=['accuracy'])"
   ]
  },
  {
   "cell_type": "code",
   "execution_count": null,
   "metadata": {
    "scrolled": true
   },
   "outputs": [],
   "source": [
    "history = model.fit(x, y, epochs=10, validation_split=0.5)"
   ]
  },
  {
   "cell_type": "code",
   "execution_count": 2,
   "metadata": {
    "scrolled": true
   },
   "outputs": [
    {
     "ename": "OSError",
     "evalue": "SavedModel file does not exist at: ../model/20200527164322/{saved_model.pbtxt|saved_model.pb}",
     "output_type": "error",
     "traceback": [
      "\u001b[1;31m---------------------------------------------------------------------------\u001b[0m",
      "\u001b[1;31mOSError\u001b[0m                                   Traceback (most recent call last)",
      "\u001b[1;32m<ipython-input-2-25c8874b1b9a>\u001b[0m in \u001b[0;36m<module>\u001b[1;34m\u001b[0m\n\u001b[1;32m----> 1\u001b[1;33m \u001b[0mnew_model\u001b[0m \u001b[1;33m=\u001b[0m \u001b[0mkeras\u001b[0m\u001b[1;33m.\u001b[0m\u001b[0mmodels\u001b[0m\u001b[1;33m.\u001b[0m\u001b[0mload_model\u001b[0m\u001b[1;33m(\u001b[0m\u001b[1;34m'../model/20200527164322'\u001b[0m\u001b[1;33m)\u001b[0m\u001b[1;33m\u001b[0m\u001b[1;33m\u001b[0m\u001b[0m\n\u001b[0m\u001b[0;32m      2\u001b[0m \u001b[0mnew_model\u001b[0m\u001b[1;33m.\u001b[0m\u001b[0mtrainable\u001b[0m \u001b[1;33m=\u001b[0m \u001b[1;32mFalse\u001b[0m\u001b[1;33m\u001b[0m\u001b[1;33m\u001b[0m\u001b[0m\n\u001b[0;32m      3\u001b[0m \u001b[0mnew_model\u001b[0m\u001b[1;33m.\u001b[0m\u001b[0msummary\u001b[0m\u001b[1;33m(\u001b[0m\u001b[1;33m)\u001b[0m\u001b[1;33m\u001b[0m\u001b[1;33m\u001b[0m\u001b[0m\n",
      "\u001b[1;32mc:\\users\\user\\appdata\\local\\programs\\python\\python38\\lib\\site-packages\\tensorflow\\python\\keras\\saving\\save.py\u001b[0m in \u001b[0;36mload_model\u001b[1;34m(filepath, custom_objects, compile)\u001b[0m\n\u001b[0;32m    187\u001b[0m       \u001b[0mfilepath\u001b[0m \u001b[1;33m=\u001b[0m \u001b[0mstr\u001b[0m\u001b[1;33m(\u001b[0m\u001b[0mfilepath\u001b[0m\u001b[1;33m)\u001b[0m\u001b[1;33m\u001b[0m\u001b[1;33m\u001b[0m\u001b[0m\n\u001b[0;32m    188\u001b[0m     \u001b[1;32mif\u001b[0m \u001b[0misinstance\u001b[0m\u001b[1;33m(\u001b[0m\u001b[0mfilepath\u001b[0m\u001b[1;33m,\u001b[0m \u001b[0msix\u001b[0m\u001b[1;33m.\u001b[0m\u001b[0mstring_types\u001b[0m\u001b[1;33m)\u001b[0m\u001b[1;33m:\u001b[0m\u001b[1;33m\u001b[0m\u001b[1;33m\u001b[0m\u001b[0m\n\u001b[1;32m--> 189\u001b[1;33m       \u001b[0mloader_impl\u001b[0m\u001b[1;33m.\u001b[0m\u001b[0mparse_saved_model\u001b[0m\u001b[1;33m(\u001b[0m\u001b[0mfilepath\u001b[0m\u001b[1;33m)\u001b[0m\u001b[1;33m\u001b[0m\u001b[1;33m\u001b[0m\u001b[0m\n\u001b[0m\u001b[0;32m    190\u001b[0m       \u001b[1;32mreturn\u001b[0m \u001b[0msaved_model_load\u001b[0m\u001b[1;33m.\u001b[0m\u001b[0mload\u001b[0m\u001b[1;33m(\u001b[0m\u001b[0mfilepath\u001b[0m\u001b[1;33m,\u001b[0m \u001b[0mcompile\u001b[0m\u001b[1;33m)\u001b[0m\u001b[1;33m\u001b[0m\u001b[1;33m\u001b[0m\u001b[0m\n\u001b[0;32m    191\u001b[0m \u001b[1;33m\u001b[0m\u001b[0m\n",
      "\u001b[1;32mc:\\users\\user\\appdata\\local\\programs\\python\\python38\\lib\\site-packages\\tensorflow\\python\\saved_model\\loader_impl.py\u001b[0m in \u001b[0;36mparse_saved_model\u001b[1;34m(export_dir)\u001b[0m\n\u001b[0;32m    108\u001b[0m       \u001b[1;32mraise\u001b[0m \u001b[0mIOError\u001b[0m\u001b[1;33m(\u001b[0m\u001b[1;34m\"Cannot parse file %s: %s.\"\u001b[0m \u001b[1;33m%\u001b[0m \u001b[1;33m(\u001b[0m\u001b[0mpath_to_pbtxt\u001b[0m\u001b[1;33m,\u001b[0m \u001b[0mstr\u001b[0m\u001b[1;33m(\u001b[0m\u001b[0me\u001b[0m\u001b[1;33m)\u001b[0m\u001b[1;33m)\u001b[0m\u001b[1;33m)\u001b[0m\u001b[1;33m\u001b[0m\u001b[1;33m\u001b[0m\u001b[0m\n\u001b[0;32m    109\u001b[0m   \u001b[1;32melse\u001b[0m\u001b[1;33m:\u001b[0m\u001b[1;33m\u001b[0m\u001b[1;33m\u001b[0m\u001b[0m\n\u001b[1;32m--> 110\u001b[1;33m     raise IOError(\"SavedModel file does not exist at: %s/{%s|%s}\" %\n\u001b[0m\u001b[0;32m    111\u001b[0m                   (export_dir,\n\u001b[0;32m    112\u001b[0m                    \u001b[0mconstants\u001b[0m\u001b[1;33m.\u001b[0m\u001b[0mSAVED_MODEL_FILENAME_PBTXT\u001b[0m\u001b[1;33m,\u001b[0m\u001b[1;33m\u001b[0m\u001b[1;33m\u001b[0m\u001b[0m\n",
      "\u001b[1;31mOSError\u001b[0m: SavedModel file does not exist at: ../model/20200527164322/{saved_model.pbtxt|saved_model.pb}"
     ]
    }
   ],
   "source": [
    "new_model = keras.models.load_model('../model/20200527115516')\n",
    "new_model.trainable = False\n",
    "new_model.summary()"
   ]
  },
  {
   "cell_type": "code",
   "execution_count": null,
   "metadata": {
    "scrolled": true
   },
   "outputs": [],
   "source": [
    "kpsit = np.array(\n",
    "    [[0.42066974, 0.03377341, 0.93105775],\n",
    "     [0.56096523, 0.13059323, 0.85573244],\n",
    "     [0.31107213, 0.12328002, 0.72245979],\n",
    "     [0.32317458, 0.35823643, 0.76535183],\n",
    "     [0.46987274, 0.1605992 , 0.81376195],\n",
    "     [0.79283629, 0.13441588, 0.74613953],\n",
    "     [0.92099365, 0.38429926, 0.81230706],\n",
    "     [0.66481706, 0.45514498, 0.84954345],\n",
    "     [0.58546282, 0.43294643, 0.64686447],\n",
    "     [0.45124915, 0.43286038, 0.63602632],\n",
    "     [0.28057997, 0.4291688 , 0.87146532],\n",
    "     [0.12833423, 0.83587873, 0.74356926],\n",
    "     [0.72572318, 0.436641  , 0.59811324],\n",
    "     [1.        , 0.51856574, 0.87591624],\n",
    "     [0.85998843, 0.92167585, 0.47881526],\n",
    "     [0.41463893, 0.        , 0.8785736 ],\n",
    "     [0.48778535, 0.01500943, 0.93832028],\n",
    "     [0.        , 0.        , 0.        ],\n",
    "     [0.63437424, 0.03754661, 0.86717928],\n",
    "     [0.82339131, 0.97013541, 0.12340754],\n",
    "     [0.88432964, 1.        , 0.17396849],\n",
    "     [0.81725973, 0.95524516, 0.21354014],\n",
    "     [0.01846693, 0.9290047 , 0.62629998],\n",
    "     [0.        , 0.91044282, 0.60277379],\n",
    "     [0.16467865, 0.86560654, 0.58592111]]\n",
    ")\n",
    "\n",
    "kpstand = np.array(\n",
    "    [[0.14214299, 0.06245055, 0.90887344],\n",
    "     [0.61878747, 0.0729089 , 0.6948505 ],\n",
    "     [0.8325748 , 0.06261659, 0.69331539],\n",
    "     [0.        , 0.        , 0.        ],\n",
    "     [0.        , 0.        , 0.        ],\n",
    "     [0.5228423 , 0.08336591, 0.90595043],\n",
    "     [0.40392984, 0.25528668, 0.66525698],\n",
    "     [0.        , 0.19807724, 0.78426057],\n",
    "     [0.66652885, 0.40630526, 0.68191302],\n",
    "     [0.80894761, 0.39064169, 0.58531821],\n",
    "     [0.80941125, 0.61977449, 0.67183238],\n",
    "     [0.90399357, 0.8696874 , 0.79234976],\n",
    "     [0.54744   , 0.41159093, 0.6849134 ],\n",
    "     [0.52311478, 0.66142487, 0.67371976],\n",
    "     [0.76087227, 0.94808762, 0.84673083],\n",
    "     [0.        , 0.        , 0.        ],\n",
    "     [0.11869691, 0.04159762, 0.95992172],\n",
    "     [0.        , 0.        , 0.        ],\n",
    "     [0.30928668, 0.        , 0.96577197],\n",
    "     [0.28468857, 0.98441584, 0.86155325],\n",
    "     [0.38102609, 1.        , 0.8768158 ],\n",
    "     [0.88120146, 0.96354566, 0.86388636],\n",
    "     [0.52305742, 0.8751741 , 0.41790947],\n",
    "     [0.52417729, 0.86994876, 0.40984833],\n",
    "     [1.        , 0.8853887 , 0.75843006]]\n",
    ")\n",
    "\n",
    "a = model.predict(np.array([kpsit, kpstand]))\n",
    "print(a)"
   ]
  },
  {
   "cell_type": "code",
   "execution_count": null,
   "metadata": {
    "scrolled": true
   },
   "outputs": [],
   "source": [
    "oss, acc = new_model.evaluate(test_keypoints,  test_labels, verbose=2)\n",
    "print('Restored model, accuracy: {:5.2f}%'.format(100 * acc))\n",
    "print(new_model.predict(test_images).shape)"
   ]
  },
  {
   "cell_type": "code",
   "execution_count": null,
   "metadata": {
    "scrolled": true
   },
   "outputs": [],
   "source": [
    "from datetime import datetime\n",
    "\n",
    "time_identifier = datetime.now().strftime(\"%Y%m%d%H%M%S\")\n",
    "path = 'model/' + time_identifier\n",
    "path"
   ]
  },
  {
   "cell_type": "code",
   "execution_count": null,
   "metadata": {
    "scrolled": true
   },
   "outputs": [],
   "source": [
    "model.save(path)"
   ]
  },
  {
   "cell_type": "code",
   "execution_count": null,
   "metadata": {
    "scrolled": true
   },
   "outputs": [],
   "source": []
  },
  {
   "cell_type": "code",
   "execution_count": null,
   "metadata": {
    "scrolled": true
   },
   "outputs": [],
   "source": []
  },
  {
   "cell_type": "code",
   "execution_count": null,
   "metadata": {
    "scrolled": true
   },
   "outputs": [],
   "source": []
  },
  {
   "cell_type": "code",
   "execution_count": null,
   "metadata": {
    "scrolled": true
   },
   "outputs": [],
   "source": []
  }
 ],
 "metadata": {
  "kernelspec": {
   "display_name": "Python 3",
   "language": "python",
   "name": "python3"
  },
  "language_info": {
   "codemirror_mode": {
    "name": "ipython",
    "version": 3
   },
   "file_extension": ".py",
   "mimetype": "text/x-python",
   "name": "python",
   "nbconvert_exporter": "python",
   "pygments_lexer": "ipython3",
   "version": "3.8.2"
  }
 },
 "nbformat": 4,
 "nbformat_minor": 4
}
